{
 "cells": [
  {
   "cell_type": "markdown",
   "id": "c008592f",
   "metadata": {},
   "source": [
    "# How to run simulations with `arraylib` before arraying a pooled library\n",
    "\n",
    "The starting point when generating an arrayed library is usually a pooled library which contains a mixture of mutants.\n",
    "Before arraying a pooled library it can be helpful to first run a simulation to estimate how big (how many wells it contains) the arrayed library should \n",
    "be to reach a certain number of mutants with unique genes and second run a simulation to estimate how accurate the deconvolution of the combinatorially pooled arrayed library will be. \n",
    "Both simulations make use of the mutant distribution of the pooled library (i.e. how abundant each mutant is in the starting pooled library). The mutant distribution can be calculated with the `tnseeker` package and both simulations introduced here expect `tnseeker` output tables as their input."
   ]
  },
  {
   "cell_type": "code",
   "execution_count": 1,
   "id": "f94ffac9-1429-4d63-869e-448d13f5de42",
   "metadata": {},
   "outputs": [],
   "source": [
    "import arraylib\n",
    "import numpy as np"
   ]
  },
  {
   "cell_type": "markdown",
   "id": "331aad88",
   "metadata": {},
   "source": [
    "# Estimate size of arrayed library to reach a certain number of unique mutants\n",
    "## Run interactively\n",
    "\n",
    "To run the simulation interactively use the code below. \n"
   ]
  },
  {
   "cell_type": "code",
   "execution_count": 2,
   "id": "159896a4",
   "metadata": {},
   "outputs": [],
   "source": [
    "# perform simulations 10 between 2000 and 5000 mutants\n",
    "arrsize=np.linspace(2000, 5000,10, dtype=int)\n",
    "\n",
    "sim_result = arraylib.simulations.simulate_unique_genes(data= \"../../tests/test_data/tnseeker_test_output.csv\", # path to tnseeker output file\n",
    "                                            arrsize=arrsize, # arraysizes to simulate (number of mutants/wells in the array)\n",
    "                                            number_of_repeats=10, # number of repeats for each simulation \n",
    "                                            gene_start=0.1, \n",
    "                                            gene_end=0.9, # gene start and end define the range in which a transposon hit is considered to be in a gene\n",
    "                                            seed=42, # random seed\n",
    "                                            )"
   ]
  },
  {
   "cell_type": "code",
   "execution_count": 3,
   "id": "ff626365",
   "metadata": {},
   "outputs": [
    {
     "data": {
      "text/html": [
       "<div>\n",
       "<style scoped>\n",
       "    .dataframe tbody tr th:only-of-type {\n",
       "        vertical-align: middle;\n",
       "    }\n",
       "\n",
       "    .dataframe tbody tr th {\n",
       "        vertical-align: top;\n",
       "    }\n",
       "\n",
       "    .dataframe thead th {\n",
       "        text-align: right;\n",
       "    }\n",
       "</style>\n",
       "<table border=\"1\" class=\"dataframe\">\n",
       "  <thead>\n",
       "    <tr style=\"text-align: right;\">\n",
       "      <th></th>\n",
       "      <th>Arraysize</th>\n",
       "      <th>Mean</th>\n",
       "      <th>Std</th>\n",
       "    </tr>\n",
       "  </thead>\n",
       "  <tbody>\n",
       "    <tr>\n",
       "      <th>2000</th>\n",
       "      <td>2000</td>\n",
       "      <td>699.8</td>\n",
       "      <td>9.431861</td>\n",
       "    </tr>\n",
       "    <tr>\n",
       "      <th>2333</th>\n",
       "      <td>2333</td>\n",
       "      <td>734.9</td>\n",
       "      <td>4.988988</td>\n",
       "    </tr>\n",
       "    <tr>\n",
       "      <th>2666</th>\n",
       "      <td>2666</td>\n",
       "      <td>753.6</td>\n",
       "      <td>6.681317</td>\n",
       "    </tr>\n",
       "    <tr>\n",
       "      <th>3000</th>\n",
       "      <td>3000</td>\n",
       "      <td>774.2</td>\n",
       "      <td>5.095096</td>\n",
       "    </tr>\n",
       "    <tr>\n",
       "      <th>3333</th>\n",
       "      <td>3333</td>\n",
       "      <td>782.5</td>\n",
       "      <td>5.064583</td>\n",
       "    </tr>\n",
       "    <tr>\n",
       "      <th>3666</th>\n",
       "      <td>3666</td>\n",
       "      <td>792.7</td>\n",
       "      <td>4.495553</td>\n",
       "    </tr>\n",
       "    <tr>\n",
       "      <th>4000</th>\n",
       "      <td>4000</td>\n",
       "      <td>798.9</td>\n",
       "      <td>1.135782</td>\n",
       "    </tr>\n",
       "    <tr>\n",
       "      <th>4333</th>\n",
       "      <td>4333</td>\n",
       "      <td>800.6</td>\n",
       "      <td>3.555278</td>\n",
       "    </tr>\n",
       "    <tr>\n",
       "      <th>4666</th>\n",
       "      <td>4666</td>\n",
       "      <td>806.1</td>\n",
       "      <td>3.269557</td>\n",
       "    </tr>\n",
       "    <tr>\n",
       "      <th>5000</th>\n",
       "      <td>5000</td>\n",
       "      <td>808.2</td>\n",
       "      <td>1.83303</td>\n",
       "    </tr>\n",
       "  </tbody>\n",
       "</table>\n",
       "</div>"
      ],
      "text/plain": [
       "     Arraysize   Mean       Std\n",
       "2000      2000  699.8  9.431861\n",
       "2333      2333  734.9  4.988988\n",
       "2666      2666  753.6  6.681317\n",
       "3000      3000  774.2  5.095096\n",
       "3333      3333  782.5  5.064583\n",
       "3666      3666  792.7  4.495553\n",
       "4000      4000  798.9  1.135782\n",
       "4333      4333  800.6  3.555278\n",
       "4666      4666  806.1  3.269557\n",
       "5000      5000  808.2   1.83303"
      ]
     },
     "execution_count": 3,
     "metadata": {},
     "output_type": "execute_result"
    }
   ],
   "source": [
    "# show output of simulation\n",
    "sim_result"
   ]
  },
  {
   "cell_type": "markdown",
   "id": "6f341f52",
   "metadata": {},
   "source": [
    "The simulation randomly picks n mutants with probability based on the distribution in the `tnseeker` output. n is the `arrsize`, here simulations of array sizes between 2000 and 5000 were performed. Each simulation is repeated `number_of_repeats` times and the mean and standard deviation of the number of unique genes that were picked among all the picked mutants is calculated. Genes are only counted if the transposon hit it between `gene_start` and `gene_end`.\n",
    "We can plot the results:"
   ]
  },
  {
   "cell_type": "code",
   "execution_count": 4,
   "id": "2f4640b4",
   "metadata": {},
   "outputs": [
    {
     "data": {
      "image/png": "[encoded data removed]",
      "text/plain": [
       "<Figure size 432x288 with 1 Axes>"
      ]
     },
     "metadata": {
      "needs_background": "light"
     },
     "output_type": "display_data"
    }
   ],
   "source": [
    "_ = arraylib.simulations.plot_arraysize_vs_unique_genes(sim_result)"
   ]
  },
  {
   "cell_type": "markdown",
   "id": "43a4a5c5",
   "metadata": {},
   "source": [
    "## Run on command line\n",
    "\n",
    "To run the simulation on the command line use:"
   ]
  },
  {
   "cell_type": "code",
   "execution_count": 5,
   "id": "943855d3",
   "metadata": {},
   "outputs": [
    {
     "name": "stdout",
     "output_type": "stream",
     "text": [
      "Simulating unique genes for arraysizes between 2000 and 5000 !\n",
      "Plotting results to simulation_plots.pdf !\n",
      "Saving results to simulation_output.csv !\n",
      "Done!\n"
     ]
    }
   ],
   "source": [
    "!arraylib-simulate_required_arraysize ../../tests/test_data/tnseeker_test_output.csv --minsize 2000 --maxsize 5000 --number_of_simulations 10 --number_of_repeats 10 --gene_start 0.1 --gene_end 0.9 --output_filename simulation_output.csv --output_plot simulation_plots.pdf --seed 42"
   ]
  },
  {
   "cell_type": "markdown",
   "id": "88a55cb2",
   "metadata": {},
   "source": [
    "# Estimate accuracy of library deconvolution\n",
    "\n",
    "## Run interactively\n",
    "\n",
    "To run the simulation interactively use the code below. This may take a few minutes.\n"
   ]
  },
  {
   "cell_type": "code",
   "execution_count": 6,
   "id": "00fb0467",
   "metadata": {},
   "outputs": [],
   "source": [
    "sim_result = arraylib.simulations.simulate_deconvolution(data= \"../../tests/test_data/tnseeker_test_output.csv\", # path to tnseeker output file\n",
    "                                            minsize=2, # minimum gridsize to simulate (gridsize of well plates, e.g. here a grid of wellplates of size 2x2)\n",
    "                                            maxsize=4, # maximum gridsize\n",
    "                                            number_of_simulations=2, # number of simulations to run, linearly spaced between minsize and maxsize (here 2 and 4)\n",
    "                                            seed=42 # random seed\n",
    "                                            ) "
   ]
  },
  {
   "cell_type": "code",
   "execution_count": 7,
   "id": "31315077",
   "metadata": {},
   "outputs": [
    {
     "data": {
      "text/html": [
       "<div>\n",
       "<style scoped>\n",
       "    .dataframe tbody tr th:only-of-type {\n",
       "        vertical-align: middle;\n",
       "    }\n",
       "\n",
       "    .dataframe tbody tr th {\n",
       "        vertical-align: top;\n",
       "    }\n",
       "\n",
       "    .dataframe thead th {\n",
       "        text-align: right;\n",
       "    }\n",
       "</style>\n",
       "<table border=\"1\" class=\"dataframe\">\n",
       "  <thead>\n",
       "    <tr style=\"text-align: right;\">\n",
       "      <th></th>\n",
       "      <th>Arraysize</th>\n",
       "      <th>Precision_4D</th>\n",
       "      <th>Recall_4D</th>\n",
       "      <th>Precision_3D</th>\n",
       "      <th>Recall_3D</th>\n",
       "    </tr>\n",
       "  </thead>\n",
       "  <tbody>\n",
       "    <tr>\n",
       "      <th>384</th>\n",
       "      <td>384</td>\n",
       "      <td>0.869452</td>\n",
       "      <td>0.867188</td>\n",
       "      <td>0.859375</td>\n",
       "      <td>0.859375</td>\n",
       "    </tr>\n",
       "    <tr>\n",
       "      <th>1536</th>\n",
       "      <td>1536</td>\n",
       "      <td>0.424384</td>\n",
       "      <td>0.414714</td>\n",
       "      <td>0.476691</td>\n",
       "      <td>0.472656</td>\n",
       "    </tr>\n",
       "  </tbody>\n",
       "</table>\n",
       "</div>"
      ],
      "text/plain": [
       "     Arraysize Precision_4D Recall_4D Precision_3D Recall_3D\n",
       "384        384     0.869452  0.867188     0.859375  0.859375\n",
       "1536      1536     0.424384  0.414714     0.476691  0.472656"
      ]
     },
     "execution_count": 7,
     "metadata": {},
     "output_type": "execute_result"
    }
   ],
   "source": [
    "# show output of simulation\n",
    "sim_result"
   ]
  },
  {
   "cell_type": "markdown",
   "id": "917e917e",
   "metadata": {},
   "source": [
    "The simulation first arranges a grid 96 well plates. \n",
    "Then for each well of the grid it randomly picks mutants with replacement with probability based on the distribution in the `tnseeker` output. \n",
    "For each mutant, read counts are simulated and added to the corresponding pools of their given wells. This results in a count matrix with mutants x pools.\n",
    "Then `arraylib` predicts the locations based on the read counts and calculates precision and recall for the true and predicted locations of the mutants. \n",
    "Precision is the percentage of correctly identified locations among all predicted locations. Recall is the percentage of all the true locations that were predicted.\n",
    "The simulation is performed for a 3D and 4D pooling scheme.\n",
    "We can plot the results using:"
   ]
  },
  {
   "cell_type": "code",
   "execution_count": 8,
   "id": "32dbd67e",
   "metadata": {},
   "outputs": [
    {
     "data": {
      "image/png": "[encoded data removed]",
      "text/plain": [
       "<Figure size 432x288 with 1 Axes>"
      ]
     },
     "metadata": {
      "needs_background": "light"
     },
     "output_type": "display_data"
    },
    {
     "data": {
      "image/png": "[encoded data removed]",
      "text/plain": [
       "<Figure size 432x288 with 1 Axes>"
      ]
     },
     "metadata": {
      "needs_background": "light"
     },
     "output_type": "display_data"
    }
   ],
   "source": [
    "_,_ =arraylib.simulations.plot_precision_recall(sim_result) "
   ]
  },
  {
   "cell_type": "markdown",
   "id": "3f12057e",
   "metadata": {},
   "source": [
    "## Run on command line\n",
    "\n",
    "To run the simulation on the command line use:"
   ]
  },
  {
   "cell_type": "code",
   "execution_count": 9,
   "id": "8db631c2",
   "metadata": {},
   "outputs": [
    {
     "name": "stdout",
     "output_type": "stream",
     "text": [
      "Simulating deconvolution runs for grids of sizes ['2' '4'] !\n",
      "Plotting results to precision_simulation_plots.pdf !\n",
      "Plotting results to recall_simulation_plots.pdf !\n",
      "Saving results to simulation_output.csv !\n",
      "Done!\n"
     ]
    }
   ],
   "source": [
    "!arraylib-simulate_deconvolution ../../tests/test_data/tnseeker_test_output.csv --minsize 2 --maxsize 4 --number_of_simulations 2 --output_filename simulation_output.csv --output_plot simulation_plots.pdf --seed 42"
   ]
  }
 ],
 "metadata": {
  "kernelspec": {
   "display_name": "spyder-env",
   "language": "python",
   "name": "python3"
  },
  "language_info": {
   "codemirror_mode": {
    "name": "ipython",
    "version": 3
   },
   "file_extension": ".py",
   "mimetype": "text/x-python",
   "name": "python",
   "nbconvert_exporter": "python",
   "pygments_lexer": "ipython3",
   "version": "3.10.5"
  }
 },
 "nbformat": 4,
 "nbformat_minor": 5
}
